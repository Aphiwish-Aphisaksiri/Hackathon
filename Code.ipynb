{
 "cells": [
  {
   "cell_type": "code",
   "execution_count": 41,
   "metadata": {},
   "outputs": [
    {
     "name": "stdout",
     "output_type": "stream",
     "text": [
      "EEG 1\n",
      "EEG 2\n",
      "EEG 3\n",
      "EEG 4\n",
      "EEG 5\n",
      "EEG 6\n",
      "EEG 7\n",
      "EEG 8\n",
      "Accelerometer X\n",
      "Accelerometer Y\n",
      "Accelerometer Z\n",
      "Gyroscope X\n",
      "Gyroscope Y\n",
      "Gyroscope Z\n",
      "Battery Level\n",
      "Counter\n",
      "Validation Indicator\n",
      "          EEG 1       EEG 2       EEG 3       EEG 4       EEG 5       EEG 6  \\\n",
      "0      -371.691    4968.160    4173.625    5129.882   -7501.729   -4839.355   \n",
      "1     -2536.981   34848.724   28886.978   36006.784  -52158.264  -31598.017   \n",
      "2     -8451.566  115978.945  109509.285  116853.752 -165891.383 -102320.025   \n",
      "3    -13914.334  250387.292  273032.350  228988.603 -324601.860 -205976.247   \n",
      "4      7503.916  403629.375  510424.775  288987.321 -443528.377 -284594.050   \n",
      "...         ...         ...         ...         ...         ...         ...   \n",
      "8979    -90.365      25.398     -89.254      29.316      -5.852      65.097   \n",
      "8980    -90.043      22.164     -88.849      25.555      -6.159      61.089   \n",
      "8981    -89.448      20.056     -88.211      22.573      -6.149      56.263   \n",
      "8982    -88.532      19.734     -87.317      20.962      -5.792      53.568   \n",
      "8983    -87.406      20.952     -86.280      20.679      -5.253      53.235   \n",
      "\n",
      "          EEG 7      EEG 8  Accelerometer X  Accelerometer Y  Accelerometer Z  \\\n",
      "0     -1243.908   6618.325           -0.108            0.963           -0.128   \n",
      "1     -1581.023   9700.296           -0.112            0.977           -0.137   \n",
      "2     -9650.821  18155.307           -0.114            0.980           -0.142   \n",
      "3    -37137.205  32355.217           -0.113            0.981           -0.139   \n",
      "4    -84792.589  48949.280           -0.115            0.980           -0.143   \n",
      "...         ...        ...              ...              ...              ...   \n",
      "8979     -6.358     -8.022           -0.093            0.984           -0.115   \n",
      "8980     -6.631     -8.455           -0.095            0.985           -0.118   \n",
      "8981     -6.585     -8.575           -0.095            0.985           -0.119   \n",
      "8982     -6.228     -8.291           -0.095            0.984           -0.118   \n",
      "8983     -5.729     -7.734           -0.094            0.982           -0.119   \n",
      "\n",
      "      Gyroscope X  Gyroscope Y  Gyroscope Z  Battery Level  Counter  \\\n",
      "0           0.000        0.000        0.000           60.0      1.0   \n",
      "1           0.000        0.000        0.000           60.0      2.0   \n",
      "2           0.000        0.000        0.000           60.0      3.0   \n",
      "3           0.000        0.000        0.000           60.0      4.0   \n",
      "4           0.061       -0.061        0.061           60.0      5.0   \n",
      "...           ...          ...          ...            ...      ...   \n",
      "8979        0.275        3.113        0.916           60.0   8980.0   \n",
      "8980        0.275        3.113        1.038           60.0   8981.0   \n",
      "8981        0.275        3.235        1.007           60.0   8982.0   \n",
      "8982        0.366        3.326        1.038           60.0   8983.0   \n",
      "8983        0.305        3.387        1.099           60.0   8984.0   \n",
      "\n",
      "      Validation Indicator  \n",
      "0                      1.0  \n",
      "1                      1.0  \n",
      "2                      1.0  \n",
      "3                      1.0  \n",
      "4                      1.0  \n",
      "...                    ...  \n",
      "8979                   1.0  \n",
      "8980                   1.0  \n",
      "8981                   1.0  \n",
      "8982                   1.0  \n",
      "8983                   1.0  \n",
      "\n",
      "[8984 rows x 17 columns]\n"
     ]
    }
   ],
   "source": [
    "# import the pandas library\n",
    "import pandas as pd\n",
    "\n",
    "# read the CSV file into a DataFrame object\n",
    "df = pd.read_csv('Testdata.csv')\n",
    "# print the DataFrame\n",
    "for i in range (0, len(df.columns)):\n",
    "    print(df.columns[i])\n",
    "print(df)"
   ]
  },
  {
   "cell_type": "code",
   "execution_count": 42,
   "metadata": {},
   "outputs": [],
   "source": [
    "# remove the columns that are not needed\n",
    "df = df.drop([\"Accelerometer X\", \"Accelerometer Y\", \"Accelerometer Z\", \"Gyroscope X\", \"Gyroscope Y\", \"Gyroscope Z\", \"Battery Level\", \"Counter\", \"Validation Indicator\"], axis = 1)"
   ]
  },
  {
   "cell_type": "code",
   "execution_count": 43,
   "metadata": {},
   "outputs": [
    {
     "name": "stdout",
     "output_type": "stream",
     "text": [
      "          EEG 1       EEG 2       EEG 3       EEG 4       EEG 5       EEG 6  \\\n",
      "0      -371.691    4968.160    4173.625    5129.882   -7501.729   -4839.355   \n",
      "1     -2536.981   34848.724   28886.978   36006.784  -52158.264  -31598.017   \n",
      "2     -8451.566  115978.945  109509.285  116853.752 -165891.383 -102320.025   \n",
      "3    -13914.334  250387.292  273032.350  228988.603 -324601.860 -205976.247   \n",
      "4      7503.916  403629.375  510424.775  288987.321 -443528.377 -284594.050   \n",
      "...         ...         ...         ...         ...         ...         ...   \n",
      "8979    -90.365      25.398     -89.254      29.316      -5.852      65.097   \n",
      "8980    -90.043      22.164     -88.849      25.555      -6.159      61.089   \n",
      "8981    -89.448      20.056     -88.211      22.573      -6.149      56.263   \n",
      "8982    -88.532      19.734     -87.317      20.962      -5.792      53.568   \n",
      "8983    -87.406      20.952     -86.280      20.679      -5.253      53.235   \n",
      "\n",
      "          EEG 7      EEG 8  \n",
      "0     -1243.908   6618.325  \n",
      "1     -1581.023   9700.296  \n",
      "2     -9650.821  18155.307  \n",
      "3    -37137.205  32355.217  \n",
      "4    -84792.589  48949.280  \n",
      "...         ...        ...  \n",
      "8979     -6.358     -8.022  \n",
      "8980     -6.631     -8.455  \n",
      "8981     -6.585     -8.575  \n",
      "8982     -6.228     -8.291  \n",
      "8983     -5.729     -7.734  \n",
      "\n",
      "[8984 rows x 8 columns]\n"
     ]
    }
   ],
   "source": [
    "# check if the columns are removed\n",
    "print(df)"
   ]
  },
  {
   "cell_type": "code",
   "execution_count": 17,
   "metadata": {},
   "outputs": [],
   "source": [
    "import numpy as np\n",
    "# Data information\n",
    "fs = 250 # sampling frequency\n",
    "epoch_length = 5 # epoch length in seconds\n",
    "nsample = fs * epoch_length # number of samples in an epoch"
   ]
  },
  {
   "cell_type": "code",
   "execution_count": 46,
   "metadata": {},
   "outputs": [
    {
     "name": "stdout",
     "output_type": "stream",
     "text": [
      "(1250, 8)\n"
     ]
    }
   ],
   "source": [
    "# Create an empty array to store the epochs\n",
    "epochs = np.zeros((nsample, len(df.columns)))\n",
    "print(epochs.shape)"
   ]
  },
  {
   "cell_type": "markdown",
   "metadata": {},
   "source": []
  }
 ],
 "metadata": {
  "kernelspec": {
   "display_name": "cybathlon_test",
   "language": "python",
   "name": "python3"
  },
  "language_info": {
   "codemirror_mode": {
    "name": "ipython",
    "version": 3
   },
   "file_extension": ".py",
   "mimetype": "text/x-python",
   "name": "python",
   "nbconvert_exporter": "python",
   "pygments_lexer": "ipython3",
   "version": "3.9.16"
  },
  "orig_nbformat": 4
 },
 "nbformat": 4,
 "nbformat_minor": 2
}
