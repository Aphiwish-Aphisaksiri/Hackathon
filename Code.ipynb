{
 "cells": [
  {
   "cell_type": "code",
   "execution_count": 41,
   "metadata": {},
   "outputs": [
    {
     "name": "stdout",
     "output_type": "stream",
     "text": [
      "EEG 1\n",
      "EEG 2\n",
      "EEG 3\n",
      "EEG 4\n",
      "EEG 5\n",
      "EEG 6\n",
      "EEG 7\n",
      "EEG 8\n",
      "Accelerometer X\n",
      "Accelerometer Y\n",
      "Accelerometer Z\n",
      "Gyroscope X\n",
      "Gyroscope Y\n",
      "Gyroscope Z\n",
      "Battery Level\n",
      "Counter\n",
      "Validation Indicator\n",
      "          EEG 1       EEG 2       EEG 3       EEG 4       EEG 5       EEG 6  \\\n",
      "0      -371.691    4968.160    4173.625    5129.882   -7501.729   -4839.355   \n",
      "1     -2536.981   34848.724   28886.978   36006.784  -52158.264  -31598.017   \n",
      "2     -8451.566  115978.945  109509.285  116853.752 -165891.383 -102320.025   \n",
      "3    -13914.334  250387.292  273032.350  228988.603 -324601.860 -205976.247   \n",
      "4      7503.916  403629.375  510424.775  288987.321 -443528.377 -284594.050   \n",
      "...         ...         ...         ...         ...         ...         ...   \n",
      "8979    -90.365      25.398     -89.254      29.316      -5.852      65.097   \n",
      "8980    -90.043      22.164     -88.849      25.555      -6.159      61.089   \n",
      "8981    -89.448      20.056     -88.211      22.573      -6.149      56.263   \n",
      "8982    -88.532      19.734     -87.317      20.962      -5.792      53.568   \n",
      "8983    -87.406      20.952     -86.280      20.679      -5.253      53.235   \n",
      "\n",
      "          EEG 7      EEG 8  Accelerometer X  Accelerometer Y  Accelerometer Z  \\\n",
      "0     -1243.908   6618.325           -0.108            0.963           -0.128   \n",
      "1     -1581.023   9700.296           -0.112            0.977           -0.137   \n",
      "2     -9650.821  18155.307           -0.114            0.980           -0.142   \n",
      "3    -37137.205  32355.217           -0.113            0.981           -0.139   \n",
      "4    -84792.589  48949.280           -0.115            0.980           -0.143   \n",
      "...         ...        ...              ...              ...              ...   \n",
      "8979     -6.358     -8.022           -0.093            0.984           -0.115   \n",
      "8980     -6.631     -8.455           -0.095            0.985           -0.118   \n",
      "8981     -6.585     -8.575           -0.095            0.985           -0.119   \n",
      "8982     -6.228     -8.291           -0.095            0.984           -0.118   \n",
      "8983     -5.729     -7.734           -0.094            0.982           -0.119   \n",
      "\n",
      "      Gyroscope X  Gyroscope Y  Gyroscope Z  Battery Level  Counter  \\\n",
      "0           0.000        0.000        0.000           60.0      1.0   \n",
      "1           0.000        0.000        0.000           60.0      2.0   \n",
      "2           0.000        0.000        0.000           60.0      3.0   \n",
      "3           0.000        0.000        0.000           60.0      4.0   \n",
      "4           0.061       -0.061        0.061           60.0      5.0   \n",
      "...           ...          ...          ...            ...      ...   \n",
      "8979        0.275        3.113        0.916           60.0   8980.0   \n",
      "8980        0.275        3.113        1.038           60.0   8981.0   \n",
      "8981        0.275        3.235        1.007           60.0   8982.0   \n",
      "8982        0.366        3.326        1.038           60.0   8983.0   \n",
      "8983        0.305        3.387        1.099           60.0   8984.0   \n",
      "\n",
      "      Validation Indicator  \n",
      "0                      1.0  \n",
      "1                      1.0  \n",
      "2                      1.0  \n",
      "3                      1.0  \n",
      "4                      1.0  \n",
      "...                    ...  \n",
      "8979                   1.0  \n",
      "8980                   1.0  \n",
      "8981                   1.0  \n",
      "8982                   1.0  \n",
      "8983                   1.0  \n",
      "\n",
      "[8984 rows x 17 columns]\n"
     ]
    }
   ],
   "source": [
    "# import the pandas library\n",
    "import pandas as pd\n",
    "\n",
    "# read the CSV file into a DataFrame object\n",
    "df = pd.read_csv('Testdata.csv')\n",
    "# print the DataFrame\n",
    "for i in range (0, len(df.columns)):\n",
    "    print(df.columns[i])\n",
    "print(df)"
   ]
  },
  {
   "cell_type": "code",
   "execution_count": 42,
   "metadata": {},
   "outputs": [],
   "source": [
    "# remove the columns that are not needed\n",
    "df = df.drop([\"Accelerometer X\", \"Accelerometer Y\", \"Accelerometer Z\", \"Gyroscope X\", \"Gyroscope Y\", \"Gyroscope Z\", \"Battery Level\", \"Counter\", \"Validation Indicator\"], axis = 1)"
   ]
  },
  {
   "cell_type": "code",
   "execution_count": 43,
   "metadata": {},
   "outputs": [
    {
     "name": "stdout",
     "output_type": "stream",
     "text": [
      "          EEG 1       EEG 2       EEG 3       EEG 4       EEG 5       EEG 6  \\\n",
      "0      -371.691    4968.160    4173.625    5129.882   -7501.729   -4839.355   \n",
      "1     -2536.981   34848.724   28886.978   36006.784  -52158.264  -31598.017   \n",
      "2     -8451.566  115978.945  109509.285  116853.752 -165891.383 -102320.025   \n",
      "3    -13914.334  250387.292  273032.350  228988.603 -324601.860 -205976.247   \n",
      "4      7503.916  403629.375  510424.775  288987.321 -443528.377 -284594.050   \n",
      "...         ...         ...         ...         ...         ...         ...   \n",
      "8979    -90.365      25.398     -89.254      29.316      -5.852      65.097   \n",
      "8980    -90.043      22.164     -88.849      25.555      -6.159      61.089   \n",
      "8981    -89.448      20.056     -88.211      22.573      -6.149      56.263   \n",
      "8982    -88.532      19.734     -87.317      20.962      -5.792      53.568   \n",
      "8983    -87.406      20.952     -86.280      20.679      -5.253      53.235   \n",
      "\n",
      "          EEG 7      EEG 8  \n",
      "0     -1243.908   6618.325  \n",
      "1     -1581.023   9700.296  \n",
      "2     -9650.821  18155.307  \n",
      "3    -37137.205  32355.217  \n",
      "4    -84792.589  48949.280  \n",
      "...         ...        ...  \n",
      "8979     -6.358     -8.022  \n",
      "8980     -6.631     -8.455  \n",
      "8981     -6.585     -8.575  \n",
      "8982     -6.228     -8.291  \n",
      "8983     -5.729     -7.734  \n",
      "\n",
      "[8984 rows x 8 columns]\n"
     ]
    }
   ],
   "source": [
    "# check if the columns are removed\n",
    "print(df)"
   ]
  },
  {
   "cell_type": "code",
   "execution_count": 173,
   "metadata": {},
   "outputs": [
    {
     "data": {
      "image/png": "[encoded data removed]",
      "text/plain": [
       "<Figure size 640x480 with 1 Axes>"
      ]
     },
     "metadata": {},
     "output_type": "display_data"
    }
   ],
   "source": [
    "# plot the data from the dataframe\n",
    "import matplotlib.pyplot as plt\n",
    "import numpy as np\n",
    "time = np.arange(0, df.shape[1], 1)\n",
    "for i in range(df.shape[0]):\n",
    "    plt.plot(time, df.iloc[i])"
   ]
  },
  {
   "cell_type": "code",
   "execution_count": 67,
   "metadata": {},
   "outputs": [],
   "source": [
    "import numpy as np\n",
    "# Define the epoch parameters\n",
    "fs = 250 # sampling frequency in Hz\n",
    "tmin = -0.5 # start time of epoch in seconds\n",
    "tmax = 4.0 # end time of epoch in seconds\n",
    "n_samples = int((tmax - tmin) * fs) # number of samples per epoch\n"
   ]
  },
  {
   "cell_type": "code",
   "execution_count": 74,
   "metadata": {},
   "outputs": [
    {
     "name": "stdout",
     "output_type": "stream",
     "text": [
      "Creating RawArray with float64 data, n_channels=8, n_times=8984\n",
      "    Range : 0 ... 8983 =      0.000 ...    35.932 secs\n",
      "Ready.\n",
      "Not setting metadata\n",
      "7 matching events found\n",
      "Setting baseline interval to [-0.5, 0.0] sec\n",
      "Applying baseline correction (mode: mean)\n",
      "0 projection items activated\n",
      "Using data from preloaded Raw for 7 events and 1126 original time points ...\n",
      "1 bad epochs dropped\n"
     ]
    }
   ],
   "source": [
    "import mne\n",
    "# Create channel names\n",
    "ch_names = ['EEG' + str(i) for i in range(1, 9)]\n",
    "df = df.T\n",
    "# Create info dictionary\n",
    "info = mne.create_info(ch_names=ch_names, sfreq=250, ch_types='eeg')\n",
    "# Create Raw object from data\n",
    "raw = mne.io.RawArray(df, info)\n",
    "\n",
    "# Create events every 4.5 seconds\n",
    "events = mne.make_fixed_length_events(raw, id=1, duration=4.5)\n",
    "\n",
    "epochs = mne.Epochs(raw, events, tmin=-0.5, tmax=4.0, baseline=(None, 0), preload=True)\n",
    "\n"
   ]
  },
  {
   "cell_type": "code",
   "execution_count": 189,
   "metadata": {},
   "outputs": [
    {
     "name": "stdout",
     "output_type": "stream",
     "text": [
      "(6, 8)\n",
      "(6, 8)\n"
     ]
    }
   ],
   "source": [
    "# extract the maximum and minimum amplitude for each channel in each epoch\n",
    "import numpy as np\n",
    "\n",
    "# Get epochs data\n",
    "data = epochs.get_data()\n",
    "\n",
    "# Create empty lists to store the max and min amplitudes for each epoch\n",
    "max_amp_list = []\n",
    "min_amp_list = []\n",
    "\n",
    "# Loop over epochs\n",
    "for i in range(len(epochs)):\n",
    "    # Get the data for the current epoch\n",
    "    epoch_data = data[i]\n",
    "    # Find the maximum amplitude for each channel in the current epoch\n",
    "    max_amp = np.amax(epoch_data, axis=1)\n",
    "    # Find the minimum amplitude for each channel in the current epoch\n",
    "    min_amp = np.amin(epoch_data, axis=1)\n",
    "    # Append the max and min amplitudes to the lists\n",
    "    max_amp_list.append(max_amp)\n",
    "    min_amp_list.append(min_amp)\n",
    "\n",
    "# Convert the lists to numpy arrays\n",
    "max_amp_array = np.array(max_amp_list)\n",
    "min_amp_array = np.array(min_amp_list)\n",
    "\n",
    "# Print the shape of the arrays\n",
    "print(max_amp_array.shape) # (n_epochs, n_channels)\n",
    "print(min_amp_array.shape) # (n_epochs, n_channels)\n"
   ]
  },
  {
   "cell_type": "code",
   "execution_count": 190,
   "metadata": {},
   "outputs": [
    {
     "name": "stdout",
     "output_type": "stream",
     "text": [
      "[[2, 2, 1, 1, 2, 1], [1, 1, 2, 2, 2, 2]]\n"
     ]
    }
   ],
   "source": [
    "# classification (without normalization)\n",
    "labels = [[],[]]\n",
    "check_channel = [[1, 3], [5, 7]]\n",
    "for i in range(len(epochs)):\n",
    "    if max_amp_array[i, check_channel[0][0]] > max_amp_array[i, check_channel[0][1]] and min_amp_array[i, check_channel[0][0]] < min_amp_array[i, check_channel[0][1]]:\n",
    "        labels[0].append(2)\n",
    "    elif max_amp_array[i, check_channel[0][0]] > max_amp_array[i, check_channel[0][1]] or min_amp_array[i, check_channel[0][0]] < min_amp_array[i, check_channel[0][1]]:\n",
    "        labels[0].append(1)\n",
    "    else:\n",
    "        labels[0].append(0)\n",
    "        \n",
    "    if max_amp_array[i, check_channel[1][0]] > max_amp_array[i, check_channel[1][1]] and min_amp_array[i, check_channel[1][0]] < min_amp_array[i, check_channel[1][1]]:\n",
    "        labels[1].append(2)\n",
    "    elif max_amp_array[i, check_channel[1][0]] > max_amp_array[i, check_channel[1][1]] or min_amp_array[i, check_channel[1][0]] < min_amp_array[i, check_channel[1][1]]:\n",
    "        labels[1].append(1)\n",
    "    else:\n",
    "        labels[1].append(0)\n",
    "        \n",
    "print(labels)\n"
   ]
  },
  {
   "cell_type": "code",
   "execution_count": 175,
   "metadata": {},
   "outputs": [
    {
     "name": "stdout",
     "output_type": "stream",
     "text": [
      "[1540139.729, 602368.679, 1439690.443, 759618.112, 160153.988, 656327.754, 102847.583, 73003.793] [-498063.24, -48562.599, -499418.058, -166717.492, -449857.15, -284594.05, -148775.727, -12008.91]\n"
     ]
    }
   ],
   "source": [
    "# Find the maximum and minimum amplitude for each channel in all epochs for normalization\n",
    "all_max_amp = []\n",
    "all_min_amp = []\n",
    "for i in range(df.shape[0]):\n",
    "    all_max_amp.append(np.amax(df.iloc[i]))\n",
    "    all_min_amp.append(np.amin(df.iloc[i]))\n",
    "print(all_max_amp, all_min_amp)"
   ]
  },
  {
   "cell_type": "code",
   "execution_count": 191,
   "metadata": {},
   "outputs": [
    {
     "name": "stdout",
     "output_type": "stream",
     "text": [
      "[[1.67025439e-01 1.06930274e-03 1.77689702e-01 4.47132781e-04\n",
      "  3.14354352e-04 5.09529519e-04 1.79301516e-02 4.97338735e-02]\n",
      " [1.62387312e-02 6.40942529e-03 1.73665880e-02 3.46667171e-03\n",
      "  5.36261805e-03 2.31189238e-02 3.49841404e-03 4.37313731e-03]\n",
      " [4.66017785e-02 6.03129285e-05 4.97368521e-02 6.76215414e-05\n",
      "  1.42532119e-04 2.26360402e-03 8.06089095e-03 1.19031463e-02]\n",
      " [9.05095640e-04 2.64427206e-04 9.75396299e-04 8.36554754e-05\n",
      "  6.70629867e-05 4.79117413e-04 3.52910038e-04 2.22929491e-04]\n",
      " [4.81827539e-03 1.76439998e-04 5.16443883e-03 1.23142140e-04\n",
      "  2.11407152e-04 1.31949521e-03 1.40525329e-03 1.37875148e-03]\n",
      " [2.33239114e-04 4.11326299e-05 2.45911853e-04 5.05565129e-05\n",
      "  1.93641512e-05 1.49721314e-04 2.17553399e-05 8.14707614e-05]] [[1.31181798e-01 2.20183737e-01 1.30705303e-01 4.58135421e-02\n",
      "  5.53496570e-03 1.74153295e-01 1.80975976e-02 8.14812165e-02]\n",
      " [2.75885126e-01 2.81613742e-03 2.74039279e-01 3.51884978e-04\n",
      "  1.81776222e-05 1.77466356e-03 8.48818283e-03 1.46621000e-01]\n",
      " [1.61947415e-02 2.31353429e-02 1.61776275e-02 4.07878888e-03\n",
      "  4.75950894e-04 7.51995995e-03 9.73034057e-04 8.19667852e-03]\n",
      " [5.27252026e-02 2.06968604e-03 5.25527559e-02 6.65903646e-04\n",
      "  9.00410169e-05 4.69157013e-03 2.56469293e-03 2.79751702e-02]\n",
      " [6.41357167e-05 5.38625855e-04 6.18995995e-05 1.36566354e-04\n",
      "  2.42439218e-05 4.38932840e-04 8.52766476e-05 3.98863236e-04]\n",
      " [2.69300777e-03 1.22528434e-03 2.70512056e-03 2.78953076e-04\n",
      "  5.24027549e-05 1.52430013e-03 3.15256506e-04 2.18806914e-03]]\n"
     ]
    }
   ],
   "source": [
    "# Normalize the data\n",
    "for i in range(len(epochs)):\n",
    "    for j in range(df.shape[0]):\n",
    "        max_amp_array[i][j] = max_amp_array[i][j]/all_max_amp[j]\n",
    "        min_amp_array[i][j] = min_amp_array[i][j]/all_min_amp[j]\n",
    "print(max_amp_array, min_amp_array)"
   ]
  },
  {
   "cell_type": "code",
   "execution_count": 192,
   "metadata": {},
   "outputs": [
    {
     "name": "stdout",
     "output_type": "stream",
     "text": [
      "[[1, 1, 0, 1, 1, 0], [0, 2, 1, 2, 0, 2]]\n"
     ]
    }
   ],
   "source": [
    "# classification (with normalization)\n",
    "labels = [[],[]]\n",
    "check_channel = [[1, 3], [5, 7]]\n",
    "for i in range(len(epochs)):\n",
    "    if max_amp_array[i, check_channel[0][0]] > max_amp_array[i, check_channel[0][1]] and min_amp_array[i, check_channel[0][0]] < min_amp_array[i, check_channel[0][1]]:\n",
    "        labels[0].append(2)\n",
    "    elif max_amp_array[i, check_channel[0][0]] > max_amp_array[i, check_channel[0][1]] or min_amp_array[i, check_channel[0][0]] < min_amp_array[i, check_channel[0][1]]:\n",
    "        labels[0].append(1)\n",
    "    else:\n",
    "        labels[0].append(0)\n",
    "        \n",
    "    if max_amp_array[i, check_channel[1][0]] > max_amp_array[i, check_channel[1][1]] and min_amp_array[i, check_channel[1][0]] < min_amp_array[i, check_channel[1][1]]:\n",
    "        labels[1].append(2)\n",
    "    elif max_amp_array[i, check_channel[1][0]] > max_amp_array[i, check_channel[1][1]] or min_amp_array[i, check_channel[1][0]] < min_amp_array[i, check_channel[1][1]]:\n",
    "        labels[1].append(1)\n",
    "    else:\n",
    "        labels[1].append(0)\n",
    "        \n",
    "print(labels)"
   ]
  }
 ],
 "metadata": {
  "kernelspec": {
   "display_name": "cybathlon_test",
   "language": "python",
   "name": "python3"
  },
  "language_info": {
   "codemirror_mode": {
    "name": "ipython",
    "version": 3
   },
   "file_extension": ".py",
   "mimetype": "text/x-python",
   "name": "python",
   "nbconvert_exporter": "python",
   "pygments_lexer": "ipython3",
   "version": "3.9.16"
  },
  "orig_nbformat": 4
 },
 "nbformat": 4,
 "nbformat_minor": 2
}
